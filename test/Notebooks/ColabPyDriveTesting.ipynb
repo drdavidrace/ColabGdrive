{
  "nbformat": 4,
  "nbformat_minor": 0,
  "metadata": {
    "colab": {
      "name": "ColabPyDriveTesting.ipynb",
      "version": "0.3.2",
      "provenance": [],
      "collapsed_sections": []
    },
    "kernelspec": {
      "name": "python3",
      "display_name": "Python 3"
    }
  },
  "cells": [
    {
      "metadata": {
        "id": "Mxil4-CYuhlW",
        "colab_type": "text"
      },
      "cell_type": "markdown",
      "source": [
        "# <center>Using Colaboratory With Google Drive</center>\n"
      ]
    },
    {
      "metadata": {
        "id": "jxK80foPuYQo",
        "colab_type": "text"
      },
      "cell_type": "markdown",
      "source": [
        "Google Colaboratory is a great research tool, but there is often a need to use data to/from the owner's Google Drive for small research projects.  Larger projects will use other types of Google Disk Storage, but smaller projects will work very well with Google Drive.  An owner's Google Drive is not \"automatically mounted\" on a Colaboraty Project instance; therefore, this note shows how to access files to/from a Google drive.\n",
        "\n",
        "For clarity, a bit of knowledge is important to understanding the process of using Colaboratory.  Namely, when a user starts a Colaboraty file, it creates a Docker instance that is a complete linux environment.  This linux environment has the standard Linux development tools; however, it has no connection to the owner's Google Drive.\n",
        "\n"
      ]
    },
    {
      "metadata": {
        "id": "sHtq3aUsgvNJ",
        "colab_type": "text"
      },
      "cell_type": "markdown",
      "source": [
        "The reference for PyDrive is [PyDrive](http://pythonhosted.org/PyDrive/index.html)\n",
        "\n",
        "The reference for the GoogleDrive API (Rest v2) is [GoogleDrive API](https://developers.google.com/drive/v2/reference/parents)\n",
        "\n",
        "The reference for the Google Cloud Storage Fuse is [gcsfuse](https://cloud.google.com/storage/docs/gcs-fuse)\n",
        "\n",
        "The reference for using Google Drive with Colaboratory is \n",
        "\n",
        "[GoogleDrive Fuse Implementation Reference](https://colab.research.google.com/notebook#fileId=1srw_HFWQ2SMgmWIawucXfusGzrj1_U0q"
      ]
    },
    {
      "metadata": {
        "id": "x2k8dUc1WDUq",
        "colab_type": "text"
      },
      "cell_type": "markdown",
      "source": [
        "##  Basic Linux Environment"
      ]
    },
    {
      "metadata": {
        "id": "wXE1XyWUUQ1X",
        "colab_type": "text"
      },
      "cell_type": "markdown",
      "source": [
        "This paragraph demonstrates the basic Linux environment under the Colaboratory hood.  *(Note:  You can add a GPU as part of the startup, but it isn't necessary for this project)*."
      ]
    },
    {
      "metadata": {
        "id": "oZ6ZrmvxUjmb",
        "colab_type": "code",
        "colab": {
          "base_uri": "https://localhost:8080/",
          "height": 884
        },
        "outputId": "2565ac0c-0ef3-4125-9952-84b09a99b745"
      },
      "cell_type": "code",
      "source": [
        "import os, platform, subprocess\n",
        "print(\"Home Directory: {:s}\".format(os.environ[\"HOME\"]))\n",
        "print(\"Current Working Directory: {:s}\".format(os.getcwd()))\n",
        "print(\"Operating System Name: {:s}\".format(platform.system()))\n",
        "print(\"OS Release: {:s}\".format(platform.release()))\n",
        "print(\"Processor Type: {:s}\".format(platform.processor()))\n",
        "mem_bytes = os.sysconf('SC_PAGE_SIZE') * os.sysconf('SC_PHYS_PAGES')\n",
        "mem_gib = mem_bytes/(1024**3)\n",
        "print(\"Amount of memory (GB) {:.2f}\".format(mem_gib))\n",
        "print(\"\\nFile System Information\")\n",
        "p1 = subprocess.Popen(['df','-h'],stdout=subprocess.PIPE)\n",
        "output=p1.communicate()\n",
        "out_lines = output[0].decode(\"utf-8\").split(\"/n\")\n",
        "for ol in out_lines:\n",
        "  print(ol)\n",
        "print(\"Current Directory Size\")\n",
        "p1 = subprocess.Popen(['df',os.getcwd()],stdout=subprocess.PIPE)\n",
        "output=p1.communicate()\n",
        "out_lines = output[0].decode(\"utf-8\").split(\"/n\")\n",
        "for ol in out_lines:\n",
        "  print(ol)\n",
        "fileList = os.listdir(\"/\")\n",
        "print(\"Now we see the typical Linux root directory\")\n",
        "for file in fileList:\n",
        "  print(\"FILE: {:s}\".format(file))"
      ],
      "execution_count": 1,
      "outputs": [
        {
          "output_type": "stream",
          "text": [
            "Home Directory: /root\n",
            "Current Working Directory: /content\n",
            "Operating System Name: Linux\n",
            "OS Release: 4.14.33+\n",
            "Processor Type: x86_64\n",
            "Amount of memory (GB) 12.72\n",
            "\n",
            "File System Information\n",
            "Filesystem      Size  Used Avail Use% Mounted on\n",
            "overlay          40G  5.6G   32G  15% /\n",
            "tmpfs           6.4G     0  6.4G   0% /dev\n",
            "tmpfs           6.4G     0  6.4G   0% /sys/fs/cgroup\n",
            "tmpfs           6.4G     0  6.4G   0% /opt/bin\n",
            "/dev/sda1        46G  6.4G   39G  15% /etc/hosts\n",
            "shm              64M     0   64M   0% /dev/shm\n",
            "tmpfs           6.4G     0  6.4G   0% /sys/firmware\n",
            "\n",
            "Current Directory Size\n",
            "Filesystem     1K-blocks    Used Available Use% Mounted on\n",
            "overlay         41022688 5790256  33118896  15% /\n",
            "\n",
            "Now we see the typical Linux root directory\n",
            "FILE: media\n",
            "FILE: usr\n",
            "FILE: sys\n",
            "FILE: run\n",
            "FILE: lib64\n",
            "FILE: mnt\n",
            "FILE: tmp\n",
            "FILE: dev\n",
            "FILE: proc\n",
            "FILE: boot\n",
            "FILE: opt\n",
            "FILE: bin\n",
            "FILE: root\n",
            "FILE: lib\n",
            "FILE: etc\n",
            "FILE: sbin\n",
            "FILE: home\n",
            "FILE: srv\n",
            "FILE: var\n",
            "FILE: .dockerenv\n",
            "FILE: tf_deps\n",
            "FILE: tensorflow-1.10.0-cp27-cp27mu-linux_x86_64.whl\n",
            "FILE: tensorflow-1.10.0-cp36-cp36m-linux_x86_64.whl\n",
            "FILE: gpu-tensorflow-1.10.0-cp36-cp36m-linux_x86_64.whl\n",
            "FILE: colabtools\n",
            "FILE: gpu-tensorflow-1.10.0-cp27-cp27mu-linux_x86_64.whl\n",
            "FILE: tools\n",
            "FILE: datalab\n",
            "FILE: content\n"
          ],
          "name": "stdout"
        }
      ]
    },
    {
      "metadata": {
        "id": "YbMG71FSk5Gn",
        "colab_type": "text"
      },
      "cell_type": "markdown",
      "source": [
        "As you can see from this output, this is a standard linux environment with a fairly good amount of resources.  Now we want to access our files using PyDrive, which will mount the Google Drive into our existing file system."
      ]
    },
    {
      "metadata": {
        "id": "8WKZuyJkdEO_",
        "colab_type": "text"
      },
      "cell_type": "markdown",
      "source": [
        "##  Google Drive Storage Using PyDrive"
      ]
    },
    {
      "metadata": {
        "id": "9CuCnDMeBCZe",
        "colab_type": "text"
      },
      "cell_type": "markdown",
      "source": [
        "###  Default Code That Eventually Becomes a Library\n",
        "\n",
        "This code currently resides at [ColabGDrive](https://github.com/drdavidrace/ColabGdrive.git)\n",
        "\n",
        "It is not fully developed, but is okay for personal use.\n",
        "\n",
        "This is probably the preferred method for the future since we don't have to do a fuse mount, but it does require additional tools for development since the google cloud storage is a little different than a standard linux system.  Many of the differences exist in the ColabGDrive I am developing, but these may be a while in development.\n",
        "\n",
        "The following code block loads the basic libraries.\n"
      ]
    },
    {
      "metadata": {
        "id": "EUoWjP7ynSZp",
        "colab_type": "code",
        "colab": {
          "base_uri": "https://localhost:8080/",
          "height": 119
        },
        "outputId": "cdbaa5b4-a280-46f8-f83d-7ce29a48d290"
      },
      "cell_type": "code",
      "source": [
        "%%bash\n",
        "cur_version=$(pip --version)\n",
        "echo $cur_version\n",
        "\n",
        "check_gdrive=`pip list | grep colab-gdrive`\n",
        "if [[ ! -z \"$check_gdrive\" ]]; then\n",
        "  pip uninstall --yes colab_gdrive\n",
        "fi\n",
        "pip install -U -q git+https://github.com/drdavidrace/colab_gdrive.git\n",
        "pip list | grep -i colab\n",
        "pip install -U -q PyDrive\n",
        "pip list | grep -i pydrive\n"
      ],
      "execution_count": 1,
      "outputs": [
        {
          "output_type": "stream",
          "text": [
            "pip 18.0 from /usr/local/lib/python3.6/dist-packages/pip (python 3.6)\n",
            "Uninstalling colab-gdrive-0.0.1a0:\n",
            "  Successfully uninstalled colab-gdrive-0.0.1a0\n",
            "colab-gdrive             0.0.1a0  \n",
            "google-colab             0.0.1a1  \n",
            "PyDrive                  1.3.1    \n"
          ],
          "name": "stdout"
        }
      ]
    },
    {
      "metadata": {
        "id": "n1xNIIBJ4pa3",
        "colab_type": "text"
      },
      "cell_type": "markdown",
      "source": [
        "Set up a ColabGDrive so we can test/run code."
      ]
    },
    {
      "metadata": {
        "id": "fKw7_MEf3rIa",
        "colab_type": "code",
        "colab": {
          "base_uri": "https://localhost:8080/",
          "height": 51
        },
        "outputId": "dd3a79ac-db9f-40df-92f4-1c8f5472d21b"
      },
      "cell_type": "code",
      "source": [
        "from pprint import pprint\n",
        "import logging\n",
        "#\n",
        "#  Set up a ColabGDrive\n",
        "from colab_gdrive import colab_gdrive\n",
        "\n",
        "myGdrive = colab_gdrive.ColabGDrive(logging_level=logging.ERROR)\n",
        "pprint(myGdrive.is_connected())\n",
        "pprint(myGdrive.getcwd())"
      ],
      "execution_count": 2,
      "outputs": [
        {
          "output_type": "stream",
          "text": [
            "True\n",
            "'root'\n"
          ],
          "name": "stdout"
        }
      ]
    },
    {
      "metadata": {
        "id": "QHB2t57w6L-O",
        "colab_type": "text"
      },
      "cell_type": "markdown",
      "source": [
        "###Test General File Listings"
      ]
    },
    {
      "metadata": {
        "id": "XtKjt39DYWDa",
        "colab_type": "code",
        "colab": {
          "base_uri": "https://localhost:8080/",
          "height": 3587
        },
        "outputId": "5506892e-ab2d-4c46-ceef-af529e09c234"
      },
      "cell_type": "code",
      "source": [
        "import os\n",
        "from pprint import pprint\n",
        "\n",
        "\n",
        "#\n",
        "#  Check testing information\n",
        "#\n",
        "print(\"=======Dirctory Information=======\")\n",
        "pprint(myGdrive.ls('TempTest'))\n",
        "print(\"=====1 Directory Content Information 1=====\")\n",
        "pprint(myGdrive.ls('TempTest/*'))\n",
        "print(\"=====2 Directory Content Information 2=====\")\n",
        "pprint(myGdrive.ls('TempTest/.'))\n",
        "print(\"=====3 Directory Content Information 3=====\")\n",
        "pprint(myGdrive.ls('TempTest/..'))\n",
        "print(\"=====4 Directory Content Information 4=====\")\n",
        "pprint(myGdrive.ls('.'))\n",
        "print(\"=====5 Directory Content Information 5=====\")\n",
        "pprint(myGdrive.ls('*'))\n",
        "pprint(myGdrive.ls(myGdrive.getcwd()))\n"
      ],
      "execution_count": 4,
      "outputs": [
        {
          "output_type": "stream",
          "text": [
            "=======Dirctory Information=======\n",
            "{'file_result': [{'id': '1kD_q3vGcPMrZQIFn40nsLCzSLeaAOdxL',\n",
            "                  'mimeType': 'application/vnd.google-apps.folder',\n",
            "                  'title': 'TempTest'}],\n",
            " 'full_name': 'root/TempTest'}\n",
            "=====1 Directory Content Information 1=====\n",
            "{'file_result': [{'id': '1lOA6-Rzz9NCWg9V7BcZ4228K7Jo8L0Rd',\n",
            "                  'mimeType': 'application/vnd.google-apps.folder',\n",
            "                  'title': 'Test2'},\n",
            "                 {'fileSize': '418',\n",
            "                  'id': '1nIffURLCAgERzPvHMvaQlpkGNEtMsROt',\n",
            "                  'mimeType': 'text/plain',\n",
            "                  'title': 'colors.txt'},\n",
            "                 {'id': '14M8BRFtzYnNwFGsAVFWCZ_xUKlK44xodn8jWECmsDxE',\n",
            "                  'mimeType': 'application/vnd.google-apps.document',\n",
            "                  'title': 'colors'},\n",
            "                 {'fileSize': '12106397',\n",
            "                  'id': '10brWcukQYAXcivUEFgm2s3njngRadoo7',\n",
            "                  'mimeType': 'text/csv',\n",
            "                  'title': 'train2.csv'}],\n",
            " 'full_name': 'root/TempTest'}\n",
            "=====2 Directory Content Information 2=====\n",
            "{'file_result': [{'id': '1kD_q3vGcPMrZQIFn40nsLCzSLeaAOdxL',\n",
            "                  'mimeType': 'application/vnd.google-apps.folder',\n",
            "                  'title': 'TempTest'}],\n",
            " 'full_name': 'root/TempTest'}\n",
            "=====3 Directory Content Information 3=====\n",
            "{'file_result': [{'id': '0AGG93sRDxiIuUk9PVA',\n",
            "                  'mimeType': 'application/vnd.google-apps.folder',\n",
            "                  'title': 'My Drive'}],\n",
            " 'full_name': 'root'}\n",
            "=====4 Directory Content Information 4=====\n",
            "{'file_result': [{'id': '0AGG93sRDxiIuUk9PVA',\n",
            "                  'mimeType': 'application/vnd.google-apps.folder',\n",
            "                  'title': 'My Drive'}],\n",
            " 'full_name': 'root'}\n",
            "=====5 Directory Content Information 5=====\n",
            "{'file_result': [{'fileSize': '27',\n",
            "                  'id': '1LKC34Eo_9P0R5PM_Vy0pjvhG-Megs8OL',\n",
            "                  'mimeType': 'text/plain',\n",
            "                  'title': 'test1.txt'},\n",
            "                 {'id': '1jCGbEmXEEPespRlasL3q4xJ_3Lxgxf_wq9lwkPP85XU',\n",
            "                  'mimeType': 'application/vnd.google-apps.document',\n",
            "                  'title': 'CompactSUV'},\n",
            "                 {'id': '1kD_q3vGcPMrZQIFn40nsLCzSLeaAOdxL',\n",
            "                  'mimeType': 'application/vnd.google-apps.folder',\n",
            "                  'title': 'TempTest'},\n",
            "                 {'fileSize': '27348344',\n",
            "                  'id': '1T93DzTcQxu9_C07mo3GJJ6Pzo2FclvMk',\n",
            "                  'mimeType': 'audio/flac',\n",
            "                  'title': 'Cal2_6.2_Obj_1.flac'},\n",
            "                 {'fileSize': '27348344',\n",
            "                  'id': '16NZZQjjsnuL5rvsXSVrmv9BQmLUw73Lo',\n",
            "                  'mimeType': 'audio/flac',\n",
            "                  'title': 'Cal2_6.2_Obj_1.flac'},\n",
            "                 {'fileSize': '6123815',\n",
            "                  'id': '1UjnNBopmxdx7FQ8aqFa5zbjTK91oB3Sd',\n",
            "                  'mimeType': 'audio/mpeg',\n",
            "                  'title': 'Cal2_6.2_Obj_1.mp3'},\n",
            "                 {'fileSize': '6123815',\n",
            "                  'id': '1jFbBFTltJjcKkwB8UtuVd3hfxnaFhLQR',\n",
            "                  'mimeType': 'audio/mpeg',\n",
            "                  'title': 'Cal2_6.2_Obj_1.mp3'},\n",
            "                 {'id': '1O74QH-KNYvjy892H649cBG_Z2lD9ofOrBF3_OqwMiak',\n",
            "                  'mimeType': 'application/vnd.google-apps.spreadsheet',\n",
            "                  'title': 'partyVsSuicideIncrease'},\n",
            "                 {'id': '1fZCu4XuN69oKSq2kgG2sfrLHgSlka9-X',\n",
            "                  'mimeType': 'application/vnd.google-apps.folder',\n",
            "                  'title': 'JobSearch-2018'},\n",
            "                 {'id': '1B3UKtuKPVWDcTNBTwR3x5yO8dd5YnytqKPGqJNdT6h0',\n",
            "                  'mimeType': 'application/vnd.google-apps.document',\n",
            "                  'title': 'tf16412087'},\n",
            "                 {'fileSize': '3553716',\n",
            "                  'id': '1Zalncc7HCepLByEdgti-SM8beuV37Sts',\n",
            "                  'mimeType': 'image/jpeg',\n",
            "                  'title': 'IMG_20180511_194716.jpg'},\n",
            "                 {'fileSize': '187335',\n",
            "                  'id': '15wvyzuH38Hhe0L9hE1tXlCbKZ2smi5XS',\n",
            "                  'mimeType': 'image/png',\n",
            "                  'title': 'Screenshot 2018-05-05 at 11.42.37 PM.png'},\n",
            "                 {'fileSize': '40605',\n",
            "                  'id': '1Zu9XC6kPIJcYVLFvn_KWAfDe10YxrRVB',\n",
            "                  'mimeType': 'application/vnd.openxmlformats-officedocument.wordprocessingml.document',\n",
            "                  'title': 'Copy of 2018SP-MATH-2418-43420.docx'},\n",
            "                 {'id': '17VuNkpLV3MDWRzWknFxNMoExzIwHpcg4VEvT7ru0wtM',\n",
            "                  'mimeType': 'application/vnd.google-apps.presentation',\n",
            "                  'title': 'mgbia6e_ppt_11_05'},\n",
            "                 {'id': '0B7Tj31nhk4BANnZ2bnBrZnJESlk',\n",
            "                  'mimeType': 'application/vnd.google-apps.folder',\n",
            "                  'title': 'course1_downloads'},\n",
            "                 {'id': '1rEP8JBMICEktuafomv5Imx629C6l6r81P0D_VxitBnA',\n",
            "                  'mimeType': 'application/vnd.google-apps.presentation',\n",
            "                  'title': 'mgbia6e_ppt_05_04'},\n",
            "                 {'id': '1nzwH_3rFwK9TpeD71GFtbccCjNfXytGK',\n",
            "                  'mimeType': 'application/vnd.google-apps.folder',\n",
            "                  'title': 'HomeRemodel'},\n",
            "                 {'fileSize': '46524',\n",
            "                  'id': '1OozavsgxtLNBoQJ7-4ZnV_H8DoWGUTOY',\n",
            "                  'mimeType': 'image/jpeg',\n",
            "                  'title': 'IMG_5747.jpg'},\n",
            "                 {'fileSize': '15001',\n",
            "                  'id': '1Pam0ECuqcvRZl-ZeGExOPI5VUXnjhIZJ',\n",
            "                  'mimeType': 'image/jpeg',\n",
            "                  'title': 'IMG_5745.jpg'},\n",
            "                 {'id': '1q3kw-PX2SY0EBg-P5VQpUdH6xGMQqTkk',\n",
            "                  'mimeType': 'application/vnd.google-apps.folder',\n",
            "                  'title': 'LinkedIn'},\n",
            "                 {'id': '1oR03pm1-KkX9TFObR-jacjwV6wfiRZqq',\n",
            "                  'mimeType': 'application/vnd.google-apps.folder',\n",
            "                  'title': 'PlotlyTest'},\n",
            "                 {'fileSize': '868',\n",
            "                  'id': '1izme9WrvLCFO0gKC2-BF2_cX2ldXoFBm',\n",
            "                  'mimeType': 'text/csv',\n",
            "                  'title': 'gc_2018SP-MATH-2418-43440_studinfo_2018-03-26-14-36-43.csv'},\n",
            "                 {'fileSize': '61',\n",
            "                  'id': '1ykHJStdsvQaDnY7h97VOJRR2n6TenclB',\n",
            "                  'mimeType': 'text/plain',\n",
            "                  'title': 'created.txt'},\n",
            "                 {'id': '1u3ybivsD_iDiy7pZdpZVyyAjIbLgivoT',\n",
            "                  'mimeType': 'application/vnd.google-apps.folder',\n",
            "                  'title': 'BigDataTraining'},\n",
            "                 {'id': '0B2G93sRDxiIudzJlUEJYU1hrRGM',\n",
            "                  'mimeType': 'application/vnd.google-apps.folder',\n",
            "                  'title': 'Education'},\n",
            "                 {'id': '1V2OGRh8342gmjp-N30VC1liDW5lqWibZ',\n",
            "                  'mimeType': 'application/vnd.google-apps.folder',\n",
            "                  'title': 'Colab Notebooks'},\n",
            "                 {'id': '1QM8OR0DyPEIUGcMXa3BkAB9Z8jc-NbYtnxwvJ1XAHHU',\n",
            "                  'mimeType': 'application/vnd.google-apps.spreadsheet',\n",
            "                  'title': 'drdavidraceteach_admin_credentials-1'},\n",
            "                 {'id': '1o5lMGHtHoxLiTfw2aeY5u0Q-T4MGRP3KcK_KuHHrFjs',\n",
            "                  'mimeType': 'application/vnd.google-apps.document',\n",
            "                  'title': 'Warren Race 2017 - DMR'},\n",
            "                 {'id': '1G0Y6OuGV9hX1Zu8L4wUuSue_n_mYqVIUjFYPe8od-wA',\n",
            "                  'mimeType': 'application/vnd.google-apps.spreadsheet',\n",
            "                  'title': 'FinalReview - Column chart 1'},\n",
            "                 {'id': '0B2G93sRDxiIuSkVSNUhrYU9vOWc',\n",
            "                  'mimeType': 'application/vnd.google-apps.folder',\n",
            "                  'title': 'MorganRemodel'},\n",
            "                 {'fileSize': '172469',\n",
            "                  'id': '0B2G93sRDxiIub1NUVEVjbmlVQ3M',\n",
            "                  'mimeType': 'image/png',\n",
            "                  'title': 'Discussions Introduction Assignment.png'},\n",
            "                 {'id': '0B2G93sRDxiIuU3RtQ3RCTzNHYXc',\n",
            "                  'mimeType': 'application/vnd.google-apps.folder',\n",
            "                  'title': 'GraphicsProgramming'},\n",
            "                 {'fileSize': '163500',\n",
            "                  'id': '0B2G93sRDxiIuMjZpUHZYRVJsaGM',\n",
            "                  'mimeType': 'image/png',\n",
            "                  'title': 'HB2504 Vitae Report.png'},\n",
            "                 {'fileSize': '163500',\n",
            "                  'id': '0B2G93sRDxiIuYV8tYTI5WkJxZlk',\n",
            "                  'mimeType': 'image/png',\n",
            "                  'title': 'HB2504 Vitae Report.png'},\n",
            "                 {'id': '1KQO1PFhTpU4ZjmDaGLcMjjOUCYR9rVfmPMPPa5h_rA8',\n",
            "                  'mimeType': 'application/vnd.google-apps.document',\n",
            "                  'title': '2017SU-MATH-2418-46400'},\n",
            "                 {'id': '1UawFMmDGqYImVbOPw4bl5KVoYFIDXUNWd1KWc5kL85o',\n",
            "                  'mimeType': 'application/vnd.google-apps.spreadsheet',\n",
            "                  'title': '20170606080604_2017SU-MATH-2418-45400_groupmembers'},\n",
            "                 {'id': '0B2G93sRDxiIuRzI1VUN4U3ZReTg',\n",
            "                  'mimeType': 'application/vnd.google-apps.folder',\n",
            "                  'title': 'MyPersonalBook'},\n",
            "                 {'id': '0B2G93sRDxiIuTVRqSnk4M3BZd2c',\n",
            "                  'mimeType': 'application/vnd.google-apps.folder',\n",
            "                  'title': 'FamilyPictures'},\n",
            "                 {'id': '0B2G93sRDxiIuUlBVTHVJclZXaTg',\n",
            "                  'mimeType': 'application/vnd.google-apps.folder',\n",
            "                  'title': 'KidsCommunication'},\n",
            "                 {'id': '0B2G93sRDxiIuM2VfMzRGbGJZZGc',\n",
            "                  'mimeType': 'application/vnd.google-apps.folder',\n",
            "                  'title': 'AlgorithmDocumentation'},\n",
            "                 {'id': '1_QkxSTtwCF259xOyih8HCakiGzddMRCjwblMXRapr44',\n",
            "                  'mimeType': 'application/vnd.google-apps.document',\n",
            "                  'title': 'googleplotreferences'},\n",
            "                 {'id': '0B2G93sRDxiIuQ3RsT3JjQ1pUcTg',\n",
            "                  'mimeType': 'application/vnd.google-apps.folder',\n",
            "                  'title': 'Computations'},\n",
            "                 {'id': '0B2G93sRDxiIuZnduRmxUR2FzR1E',\n",
            "                  'mimeType': 'application/vnd.google-apps.folder',\n",
            "                  'title': 'Teaching-Eastfield'},\n",
            "                 {'id': '0B2G93sRDxiIuT082RUY5T2VzNjA',\n",
            "                  'mimeType': 'application/vnd.google-apps.folder',\n",
            "                  'title': 'SmallBusinessStarts'},\n",
            "                 {'id': '0B2G93sRDxiIuYmh1c2x3Y2Jfcjg',\n",
            "                  'mimeType': 'application/vnd.google-apps.folder',\n",
            "                  'title': 'GraphNotes'},\n",
            "                 {'id': '0B2G93sRDxiIuenYwcHhxYUQ0M3M',\n",
            "                  'mimeType': 'application/vnd.google-apps.folder',\n",
            "                  'title': 'BlogPages'},\n",
            "                 {'id': '0B2G93sRDxiIuWXFrWGY1bzlKalk',\n",
            "                  'mimeType': 'application/vnd.google-apps.folder',\n",
            "                  'title': 'Professional'},\n",
            "                 {'id': '0B2G93sRDxiIuSFdfNENtNHVLd0U',\n",
            "                  'mimeType': 'application/vnd.google-apps.folder',\n",
            "                  'title': 'Financials'},\n",
            "                 {'id': '0B2G93sRDxiIuYTRFUnlIN0V4VkU',\n",
            "                  'mimeType': 'application/vnd.google-apps.folder',\n",
            "                  'title': 'GlobalSecure.bc'},\n",
            "                 {'id': '0B2G93sRDxiIuemR0M29xU3dqYTg',\n",
            "                  'mimeType': 'application/vnd.google-apps.folder',\n",
            "                  'title': 'PersonalGlobal.bc'},\n",
            "                 {'id': '0B2G93sRDxiIuTnI0amVvWDN0THc',\n",
            "                  'mimeType': 'application/vnd.google-apps.folder',\n",
            "                  'title': 'Performance'},\n",
            "                 {'id': '0B2G93sRDxiIuTEJabFg0amJtUVE',\n",
            "                  'mimeType': 'application/vnd.google-apps.folder',\n",
            "                  'title': 'Research'}],\n",
            " 'full_name': 'root'}\n",
            "{'file_result': [], 'full_name': 'root'}\n"
          ],
          "name": "stdout"
        }
      ]
    },
    {
      "metadata": {
        "id": "5Z1gdpap_qq_",
        "colab_type": "text"
      },
      "cell_type": "markdown",
      "source": [
        "###Test Directory Management"
      ]
    },
    {
      "metadata": {
        "id": "BryhUhKL_7oz",
        "colab_type": "code",
        "colab": {
          "base_uri": "https://localhost:8080/",
          "height": 3621
        },
        "outputId": "c01b0a4d-c695-4066-a0ca-4d40442ceeb1"
      },
      "cell_type": "code",
      "source": [
        "#This should have much different results from the previous cell\n",
        "myGdrive.set_log_level(logging.ERROR)\n",
        "pprint(myGdrive.chdir('TempTest'))\n",
        "pprint(myGdrive.getcwd())\n",
        "#\n",
        "#  Check testing information\n",
        "#\n",
        "print(\"=======Dirctory Information=======\")\n",
        "pprint(myGdrive.ls('TempTest'))\n",
        "print(\"=====1 Directory Content Information 1=====\")\n",
        "pprint(myGdrive.ls('TempTest/*'))\n",
        "print(\"=====2 Directory Content Information 2=====\")\n",
        "pprint(myGdrive.ls('TempTest/.'))\n",
        "print(\"=====3 Directory Content Information 3=====\")\n",
        "#Notice that the .. will move it backwards and throw away the added TempTest\n",
        "pprint(myGdrive.ls('TempTest/..'))\n",
        "print(\"=====4 Directory Content Information 4=====\")\n",
        "pprint(myGdrive.ls('.'))\n",
        "print(\"=====5 Directory Content Information 5=====\")\n",
        "pprint(myGdrive.ls('*'))\n",
        "#  Move the working directory back one layer\n",
        "pprint(myGdrive.chdir('..'))\n",
        "print(\"=====6 Directory Content Information -  Should be root6=====\")\n",
        "pprint(myGdrive.ls('*'))"
      ],
      "execution_count": 5,
      "outputs": [
        {
          "output_type": "stream",
          "text": [
            "'root/TempTest'\n",
            "GoogleDriveFile({'id': '1kD_q3vGcPMrZQIFn40nsLCzSLeaAOdxL'})\n",
            "'root/TempTest'\n",
            "'root/TempTest'\n",
            "=======Dirctory Information=======\n",
            "{'file_result': [], 'full_name': 'root/TempTest'}\n",
            "=====1 Directory Content Information 1=====\n",
            "{'file_result': [], 'full_name': 'root/TempTest'}\n",
            "=====2 Directory Content Information 2=====\n",
            "{'file_result': [], 'full_name': 'root/TempTest'}\n",
            "=====3 Directory Content Information 3=====\n",
            "{'file_result': [{'id': '1kD_q3vGcPMrZQIFn40nsLCzSLeaAOdxL',\n",
            "                  'mimeType': 'application/vnd.google-apps.folder',\n",
            "                  'title': 'TempTest'}],\n",
            " 'full_name': 'root/TempTest'}\n",
            "=====4 Directory Content Information 4=====\n",
            "{'file_result': [{'id': '1kD_q3vGcPMrZQIFn40nsLCzSLeaAOdxL',\n",
            "                  'mimeType': 'application/vnd.google-apps.folder',\n",
            "                  'title': 'TempTest'}],\n",
            " 'full_name': 'root/TempTest'}\n",
            "=====5 Directory Content Information 5=====\n",
            "{'file_result': [{'id': '1lOA6-Rzz9NCWg9V7BcZ4228K7Jo8L0Rd',\n",
            "                  'mimeType': 'application/vnd.google-apps.folder',\n",
            "                  'title': 'Test2'},\n",
            "                 {'fileSize': '418',\n",
            "                  'id': '1nIffURLCAgERzPvHMvaQlpkGNEtMsROt',\n",
            "                  'mimeType': 'text/plain',\n",
            "                  'title': 'colors.txt'},\n",
            "                 {'id': '14M8BRFtzYnNwFGsAVFWCZ_xUKlK44xodn8jWECmsDxE',\n",
            "                  'mimeType': 'application/vnd.google-apps.document',\n",
            "                  'title': 'colors'},\n",
            "                 {'fileSize': '12106397',\n",
            "                  'id': '10brWcukQYAXcivUEFgm2s3njngRadoo7',\n",
            "                  'mimeType': 'text/csv',\n",
            "                  'title': 'train2.csv'}],\n",
            " 'full_name': 'root/TempTest'}\n",
            "'root'\n",
            "GoogleDriveFile({'id': '0AGG93sRDxiIuUk9PVA'})\n",
            "'root'\n",
            "=====6 Directory Content Information -  Should be root6=====\n",
            "{'file_result': [{'fileSize': '27',\n",
            "                  'id': '1LKC34Eo_9P0R5PM_Vy0pjvhG-Megs8OL',\n",
            "                  'mimeType': 'text/plain',\n",
            "                  'title': 'test1.txt'},\n",
            "                 {'id': '1jCGbEmXEEPespRlasL3q4xJ_3Lxgxf_wq9lwkPP85XU',\n",
            "                  'mimeType': 'application/vnd.google-apps.document',\n",
            "                  'title': 'CompactSUV'},\n",
            "                 {'id': '1kD_q3vGcPMrZQIFn40nsLCzSLeaAOdxL',\n",
            "                  'mimeType': 'application/vnd.google-apps.folder',\n",
            "                  'title': 'TempTest'},\n",
            "                 {'fileSize': '27348344',\n",
            "                  'id': '1T93DzTcQxu9_C07mo3GJJ6Pzo2FclvMk',\n",
            "                  'mimeType': 'audio/flac',\n",
            "                  'title': 'Cal2_6.2_Obj_1.flac'},\n",
            "                 {'fileSize': '27348344',\n",
            "                  'id': '16NZZQjjsnuL5rvsXSVrmv9BQmLUw73Lo',\n",
            "                  'mimeType': 'audio/flac',\n",
            "                  'title': 'Cal2_6.2_Obj_1.flac'},\n",
            "                 {'fileSize': '6123815',\n",
            "                  'id': '1UjnNBopmxdx7FQ8aqFa5zbjTK91oB3Sd',\n",
            "                  'mimeType': 'audio/mpeg',\n",
            "                  'title': 'Cal2_6.2_Obj_1.mp3'},\n",
            "                 {'fileSize': '6123815',\n",
            "                  'id': '1jFbBFTltJjcKkwB8UtuVd3hfxnaFhLQR',\n",
            "                  'mimeType': 'audio/mpeg',\n",
            "                  'title': 'Cal2_6.2_Obj_1.mp3'},\n",
            "                 {'id': '1O74QH-KNYvjy892H649cBG_Z2lD9ofOrBF3_OqwMiak',\n",
            "                  'mimeType': 'application/vnd.google-apps.spreadsheet',\n",
            "                  'title': 'partyVsSuicideIncrease'},\n",
            "                 {'id': '1fZCu4XuN69oKSq2kgG2sfrLHgSlka9-X',\n",
            "                  'mimeType': 'application/vnd.google-apps.folder',\n",
            "                  'title': 'JobSearch-2018'},\n",
            "                 {'id': '1B3UKtuKPVWDcTNBTwR3x5yO8dd5YnytqKPGqJNdT6h0',\n",
            "                  'mimeType': 'application/vnd.google-apps.document',\n",
            "                  'title': 'tf16412087'},\n",
            "                 {'fileSize': '3553716',\n",
            "                  'id': '1Zalncc7HCepLByEdgti-SM8beuV37Sts',\n",
            "                  'mimeType': 'image/jpeg',\n",
            "                  'title': 'IMG_20180511_194716.jpg'},\n",
            "                 {'fileSize': '187335',\n",
            "                  'id': '15wvyzuH38Hhe0L9hE1tXlCbKZ2smi5XS',\n",
            "                  'mimeType': 'image/png',\n",
            "                  'title': 'Screenshot 2018-05-05 at 11.42.37 PM.png'},\n",
            "                 {'fileSize': '40605',\n",
            "                  'id': '1Zu9XC6kPIJcYVLFvn_KWAfDe10YxrRVB',\n",
            "                  'mimeType': 'application/vnd.openxmlformats-officedocument.wordprocessingml.document',\n",
            "                  'title': 'Copy of 2018SP-MATH-2418-43420.docx'},\n",
            "                 {'id': '17VuNkpLV3MDWRzWknFxNMoExzIwHpcg4VEvT7ru0wtM',\n",
            "                  'mimeType': 'application/vnd.google-apps.presentation',\n",
            "                  'title': 'mgbia6e_ppt_11_05'},\n",
            "                 {'id': '0B7Tj31nhk4BANnZ2bnBrZnJESlk',\n",
            "                  'mimeType': 'application/vnd.google-apps.folder',\n",
            "                  'title': 'course1_downloads'},\n",
            "                 {'id': '1rEP8JBMICEktuafomv5Imx629C6l6r81P0D_VxitBnA',\n",
            "                  'mimeType': 'application/vnd.google-apps.presentation',\n",
            "                  'title': 'mgbia6e_ppt_05_04'},\n",
            "                 {'id': '1nzwH_3rFwK9TpeD71GFtbccCjNfXytGK',\n",
            "                  'mimeType': 'application/vnd.google-apps.folder',\n",
            "                  'title': 'HomeRemodel'},\n",
            "                 {'fileSize': '46524',\n",
            "                  'id': '1OozavsgxtLNBoQJ7-4ZnV_H8DoWGUTOY',\n",
            "                  'mimeType': 'image/jpeg',\n",
            "                  'title': 'IMG_5747.jpg'},\n",
            "                 {'fileSize': '15001',\n",
            "                  'id': '1Pam0ECuqcvRZl-ZeGExOPI5VUXnjhIZJ',\n",
            "                  'mimeType': 'image/jpeg',\n",
            "                  'title': 'IMG_5745.jpg'},\n",
            "                 {'id': '1q3kw-PX2SY0EBg-P5VQpUdH6xGMQqTkk',\n",
            "                  'mimeType': 'application/vnd.google-apps.folder',\n",
            "                  'title': 'LinkedIn'},\n",
            "                 {'id': '1oR03pm1-KkX9TFObR-jacjwV6wfiRZqq',\n",
            "                  'mimeType': 'application/vnd.google-apps.folder',\n",
            "                  'title': 'PlotlyTest'},\n",
            "                 {'fileSize': '868',\n",
            "                  'id': '1izme9WrvLCFO0gKC2-BF2_cX2ldXoFBm',\n",
            "                  'mimeType': 'text/csv',\n",
            "                  'title': 'gc_2018SP-MATH-2418-43440_studinfo_2018-03-26-14-36-43.csv'},\n",
            "                 {'fileSize': '61',\n",
            "                  'id': '1ykHJStdsvQaDnY7h97VOJRR2n6TenclB',\n",
            "                  'mimeType': 'text/plain',\n",
            "                  'title': 'created.txt'},\n",
            "                 {'id': '1u3ybivsD_iDiy7pZdpZVyyAjIbLgivoT',\n",
            "                  'mimeType': 'application/vnd.google-apps.folder',\n",
            "                  'title': 'BigDataTraining'},\n",
            "                 {'id': '0B2G93sRDxiIudzJlUEJYU1hrRGM',\n",
            "                  'mimeType': 'application/vnd.google-apps.folder',\n",
            "                  'title': 'Education'},\n",
            "                 {'id': '1V2OGRh8342gmjp-N30VC1liDW5lqWibZ',\n",
            "                  'mimeType': 'application/vnd.google-apps.folder',\n",
            "                  'title': 'Colab Notebooks'},\n",
            "                 {'id': '1QM8OR0DyPEIUGcMXa3BkAB9Z8jc-NbYtnxwvJ1XAHHU',\n",
            "                  'mimeType': 'application/vnd.google-apps.spreadsheet',\n",
            "                  'title': 'drdavidraceteach_admin_credentials-1'},\n",
            "                 {'id': '1o5lMGHtHoxLiTfw2aeY5u0Q-T4MGRP3KcK_KuHHrFjs',\n",
            "                  'mimeType': 'application/vnd.google-apps.document',\n",
            "                  'title': 'Warren Race 2017 - DMR'},\n",
            "                 {'id': '1G0Y6OuGV9hX1Zu8L4wUuSue_n_mYqVIUjFYPe8od-wA',\n",
            "                  'mimeType': 'application/vnd.google-apps.spreadsheet',\n",
            "                  'title': 'FinalReview - Column chart 1'},\n",
            "                 {'id': '0B2G93sRDxiIuSkVSNUhrYU9vOWc',\n",
            "                  'mimeType': 'application/vnd.google-apps.folder',\n",
            "                  'title': 'MorganRemodel'},\n",
            "                 {'fileSize': '172469',\n",
            "                  'id': '0B2G93sRDxiIub1NUVEVjbmlVQ3M',\n",
            "                  'mimeType': 'image/png',\n",
            "                  'title': 'Discussions Introduction Assignment.png'},\n",
            "                 {'id': '0B2G93sRDxiIuU3RtQ3RCTzNHYXc',\n",
            "                  'mimeType': 'application/vnd.google-apps.folder',\n",
            "                  'title': 'GraphicsProgramming'},\n",
            "                 {'fileSize': '163500',\n",
            "                  'id': '0B2G93sRDxiIuMjZpUHZYRVJsaGM',\n",
            "                  'mimeType': 'image/png',\n",
            "                  'title': 'HB2504 Vitae Report.png'},\n",
            "                 {'fileSize': '163500',\n",
            "                  'id': '0B2G93sRDxiIuYV8tYTI5WkJxZlk',\n",
            "                  'mimeType': 'image/png',\n",
            "                  'title': 'HB2504 Vitae Report.png'},\n",
            "                 {'id': '1KQO1PFhTpU4ZjmDaGLcMjjOUCYR9rVfmPMPPa5h_rA8',\n",
            "                  'mimeType': 'application/vnd.google-apps.document',\n",
            "                  'title': '2017SU-MATH-2418-46400'},\n",
            "                 {'id': '1UawFMmDGqYImVbOPw4bl5KVoYFIDXUNWd1KWc5kL85o',\n",
            "                  'mimeType': 'application/vnd.google-apps.spreadsheet',\n",
            "                  'title': '20170606080604_2017SU-MATH-2418-45400_groupmembers'},\n",
            "                 {'id': '0B2G93sRDxiIuRzI1VUN4U3ZReTg',\n",
            "                  'mimeType': 'application/vnd.google-apps.folder',\n",
            "                  'title': 'MyPersonalBook'},\n",
            "                 {'id': '0B2G93sRDxiIuTVRqSnk4M3BZd2c',\n",
            "                  'mimeType': 'application/vnd.google-apps.folder',\n",
            "                  'title': 'FamilyPictures'},\n",
            "                 {'id': '0B2G93sRDxiIuUlBVTHVJclZXaTg',\n",
            "                  'mimeType': 'application/vnd.google-apps.folder',\n",
            "                  'title': 'KidsCommunication'},\n",
            "                 {'id': '0B2G93sRDxiIuM2VfMzRGbGJZZGc',\n",
            "                  'mimeType': 'application/vnd.google-apps.folder',\n",
            "                  'title': 'AlgorithmDocumentation'},\n",
            "                 {'id': '1_QkxSTtwCF259xOyih8HCakiGzddMRCjwblMXRapr44',\n",
            "                  'mimeType': 'application/vnd.google-apps.document',\n",
            "                  'title': 'googleplotreferences'},\n",
            "                 {'id': '0B2G93sRDxiIuQ3RsT3JjQ1pUcTg',\n",
            "                  'mimeType': 'application/vnd.google-apps.folder',\n",
            "                  'title': 'Computations'},\n",
            "                 {'id': '0B2G93sRDxiIuZnduRmxUR2FzR1E',\n",
            "                  'mimeType': 'application/vnd.google-apps.folder',\n",
            "                  'title': 'Teaching-Eastfield'},\n",
            "                 {'id': '0B2G93sRDxiIuT082RUY5T2VzNjA',\n",
            "                  'mimeType': 'application/vnd.google-apps.folder',\n",
            "                  'title': 'SmallBusinessStarts'},\n",
            "                 {'id': '0B2G93sRDxiIuYmh1c2x3Y2Jfcjg',\n",
            "                  'mimeType': 'application/vnd.google-apps.folder',\n",
            "                  'title': 'GraphNotes'},\n",
            "                 {'id': '0B2G93sRDxiIuenYwcHhxYUQ0M3M',\n",
            "                  'mimeType': 'application/vnd.google-apps.folder',\n",
            "                  'title': 'BlogPages'},\n",
            "                 {'id': '0B2G93sRDxiIuWXFrWGY1bzlKalk',\n",
            "                  'mimeType': 'application/vnd.google-apps.folder',\n",
            "                  'title': 'Professional'},\n",
            "                 {'id': '0B2G93sRDxiIuSFdfNENtNHVLd0U',\n",
            "                  'mimeType': 'application/vnd.google-apps.folder',\n",
            "                  'title': 'Financials'},\n",
            "                 {'id': '0B2G93sRDxiIuYTRFUnlIN0V4VkU',\n",
            "                  'mimeType': 'application/vnd.google-apps.folder',\n",
            "                  'title': 'GlobalSecure.bc'},\n",
            "                 {'id': '0B2G93sRDxiIuemR0M29xU3dqYTg',\n",
            "                  'mimeType': 'application/vnd.google-apps.folder',\n",
            "                  'title': 'PersonalGlobal.bc'},\n",
            "                 {'id': '0B2G93sRDxiIuTnI0amVvWDN0THc',\n",
            "                  'mimeType': 'application/vnd.google-apps.folder',\n",
            "                  'title': 'Performance'},\n",
            "                 {'id': '0B2G93sRDxiIuTEJabFg0amJtUVE',\n",
            "                  'mimeType': 'application/vnd.google-apps.folder',\n",
            "                  'title': 'Research'}],\n",
            " 'full_name': 'root'}\n"
          ],
          "name": "stdout"
        }
      ]
    },
    {
      "metadata": {
        "id": "TMKCenUwSzZu",
        "colab_type": "text"
      },
      "cell_type": "markdown",
      "source": [
        "###  Download from Google Drive to an Instance File System"
      ]
    },
    {
      "metadata": {
        "id": "hJfcF_8DdNiS",
        "colab_type": "text"
      },
      "cell_type": "markdown",
      "source": [
        "For this part of the examples, we have a file that is logically \"root/BigDataTraining/UsingGoogleColaboratoryShortcuts/train.csv\".  We will work with this file and perform various operations moving it back and forth between the Google Drive and the instance environment.\n",
        "\n",
        "This example copies one of the files from google drive to the instance /contents directory for processing.  As a rule, we need to go through the following steps:\n",
        "\n",
        "*  Locate the file id of the file we want to download\n",
        "  *  Since we don't usually store file id's, we generically want to find the file id based upon the parents\n",
        "  *  NOTE:  The use of parents vs directories is necessary to support the efficiency of the Google Drive\n",
        "  *  We use the parents like directory names in a local file system\n",
        "*  Create a tie between pydrive and the google drive with the file id\n",
        "*  Download the using the colab_gdrive copy_from function.\n",
        "\n",
        "The current copy_from function downloads to the current working directory, so we will first download to /content (it is the default directory for colaboratory), then change the current working directory to /tmp for a download."
      ]
    },
    {
      "metadata": {
        "id": "W_VRk83it7GN",
        "colab_type": "code",
        "colab": {
          "base_uri": "https://localhost:8080/",
          "height": 323
        },
        "outputId": "c5fec2b3-ba8f-4520-fa87-bc7909d86901"
      },
      "cell_type": "code",
      "source": [
        "import os, platform, subprocess\n",
        "print(\"Home Directory: {:s}\".format(os.environ[\"HOME\"]))\n",
        "pprint(\"Current Working Directory: {:s}\".format(os.getcwd()))\n",
        "gdrive_file = 'root/BigDataTraining/UsingGoogleColaboratoryShortcuts/train.csv'\n",
        "current_metadata = myGdrive.get_file_metadata(gdrive_file)\n",
        "pprint(current_metadata)\n",
        "test_file = myGdrive.isfile(gdrive_file)\n",
        "print(test_file)\n",
        "#\n",
        "myGdrive.copy_from(gdrive_file)\n",
        "fileList = os.listdir(os.getcwd())\n",
        "print(\"Now we see the typical Linux root directory:\")\n",
        "for file in fileList:\n",
        "  print(\"FILE: {:s}\".format(file))\n",
        "print(\"Check the size:\")\n",
        "current_size = os.path.getsize('train.csv')\n",
        "print(current_size)\n",
        "current_size = myGdrive.getsize(gdrive_file)\n",
        "print(current_size)\n",
        "#\n",
        "#  Change the local chdir\n",
        "#\n",
        "cur_work_dir = os.getcwd()\n",
        "os.chdir(\"/tmp\")\n",
        "myGdrive.copy_from(gdrive_file)\n",
        "fileList = os.listdir(os.getcwd())\n",
        "print(\"Now we see the typical Linux cwd directory:\")\n",
        "for file in fileList:\n",
        "  print(\"FILE: {:s}\".format(file))\n",
        "print(\"Check the size:\")\n",
        "current_size = os.path.getsize('train.csv')\n",
        "print(current_size)\n",
        "current_size = myGdrive.getsize(gdrive_file)\n",
        "print(current_size)\n"
      ],
      "execution_count": 3,
      "outputs": [
        {
          "output_type": "stream",
          "text": [
            "Home Directory: /root\n",
            "'Current Working Directory: /content'\n",
            "GoogleDriveFile({'id': '1CS9nhWGoj4ZXljnXupQ6qVHJhuq8z0XY'})\n",
            "True\n",
            "Now we see the typical Linux root directory:\n",
            "FILE: .config\n",
            "FILE: sample_data\n",
            "FILE: train.csv\n",
            "FILE: adc.json\n",
            "Check the size:\n",
            "97391029\n",
            "97391029\n",
            "Now we see the typical Linux cwd directory:\n",
            "FILE: train.csv\n",
            "FILE: test1.txt\n",
            "Check the size:\n",
            "97391029\n",
            "97391029\n"
          ],
          "name": "stdout"
        }
      ]
    },
    {
      "metadata": {
        "id": "0Jd-NaIDJj6W",
        "colab_type": "text"
      },
      "cell_type": "markdown",
      "source": [
        "### Upload from an Instance to Google Drive (Other Directory)"
      ]
    },
    {
      "metadata": {
        "id": "9_r-Gt07Jr0P",
        "colab_type": "text"
      },
      "cell_type": "markdown",
      "source": [
        "In this next exercise, we will:\n",
        "\n",
        "*  Create a file with minimal content\n",
        "*  uplode to the directory  root/BigDataTraining\n",
        "*  validate that the file is \"correct\"\n"
      ]
    },
    {
      "metadata": {
        "id": "2ua9pQCiLEjY",
        "colab_type": "code",
        "colab": {
          "base_uri": "https://localhost:8080/",
          "height": 187
        },
        "outputId": "f6d78c7f-8353-443c-98b5-5127242f4586"
      },
      "cell_type": "code",
      "source": [
        "import os, platform, subprocess\n",
        "pprint(\"Current Working Directory: {:s}\".format(os.getcwd()))\n",
        "!echo 'This is a line for testing' > test1.txt\n",
        "!cat test1.txt\n",
        "print(\"Now we see the typical Linux cwd directory:\")\n",
        "for file in os.listdir(os.getcwd()):\n",
        "  print(\"FILE: {:s}\".format(file))\n",
        "#\n",
        "#  Set the upload information\n",
        "#\n",
        "local_file = 'test1.txt'\n",
        "myGdrive.chdir('')\n",
        "myGdrive.ls('test1.txt')\n"
      ],
      "execution_count": 4,
      "outputs": [
        {
          "output_type": "stream",
          "text": [
            "'Current Working Directory: /tmp'\n",
            "This is a line for testing\n",
            "Now we see the typical Linux cwd directory:\n",
            "FILE: train.csv\n",
            "FILE: test1.txt\n"
          ],
          "name": "stdout"
        },
        {
          "output_type": "execute_result",
          "data": {
            "text/plain": [
              "{'file_result': [{'fileSize': '27',\n",
              "   'id': '1LKC34Eo_9P0R5PM_Vy0pjvhG-Megs8OL',\n",
              "   'mimeType': 'text/plain',\n",
              "   'title': 'test1.txt'}],\n",
              " 'full_name': 'root/test1.txt'}"
            ]
          },
          "metadata": {
            "tags": []
          },
          "execution_count": 4
        }
      ]
    },
    {
      "metadata": {
        "id": "W9syxd7DSBDz",
        "colab_type": "text"
      },
      "cell_type": "markdown",
      "source": [
        "The above command for inserting into the directory may not be obvious, but the 'parents' option on the create file must be an array.  Since Google allows more than one directory, the PyDrive assumes you are passing an array.\n",
        "\n",
        "If you don't pass it an array, it puts it into the root directory.\n",
        "\n",
        "(NOTE:  This operation is instantiated in the uploadFile command in ColabGDrive as demonstrated below.)"
      ]
    },
    {
      "metadata": {
        "id": "6JLUzTq5SPBO",
        "colab_type": "text"
      },
      "cell_type": "markdown",
      "source": [
        "####  Google Docs Example\n",
        "\n",
        "The following example shows the metadata for a Google docs file."
      ]
    },
    {
      "metadata": {
        "id": "_XXCiNd_cUyH",
        "colab_type": "code",
        "colab": {
          "base_uri": "https://localhost:8080/",
          "height": 1193
        },
        "outputId": "a67fbeff-e408-4ecc-e165-e1117fb2e239"
      },
      "cell_type": "code",
      "source": [
        "docID = findFileID('root/BigDataTraining/docexample.docx')\n",
        "docReader = drive.CreateFile({'id':docID})\n",
        "docReader.FetchMetadata()\n",
        "for k in docReader.keys():\n",
        "  print(\"Key: {:s}\".format(k))\n",
        "  print(docReader[k])"
      ],
      "execution_count": 0,
      "outputs": [
        {
          "output_type": "stream",
          "text": [
            "Key: id\n",
            "1kheJEAIyfLRFk-O8peQsEalADLpJ-AYYbpjULtIgW_k\n",
            "Key: kind\n",
            "drive#file\n",
            "Key: etag\n",
            "\"hcahzZRGAO5dFBAGGfvDlnfbXEY/MTUyMTc2NTM0MTY2OA\"\n",
            "Key: selfLink\n",
            "https://www.googleapis.com/drive/v2/files/1kheJEAIyfLRFk-O8peQsEalADLpJ-AYYbpjULtIgW_k\n",
            "Key: webContentLink\n",
            "https://drive.google.com/uc?id=1kheJEAIyfLRFk-O8peQsEalADLpJ-AYYbpjULtIgW_k&export=download\n",
            "Key: alternateLink\n",
            "https://docs.google.com/document/d/1kheJEAIyfLRFk-O8peQsEalADLpJ-AYYbpjULtIgW_k/edit?usp=drivesdk\n",
            "Key: embedLink\n",
            "https://docs.google.com/document/d/1kheJEAIyfLRFk-O8peQsEalADLpJ-AYYbpjULtIgW_k/preview?ouid=100296224498372692739\n",
            "Key: iconLink\n",
            "https://drive-thirdparty.googleusercontent.com/16/type/application/vnd.google-apps.document\n",
            "Key: thumbnailLink\n",
            "https://docs.google.com/feeds/vt?gd=true&id=1kheJEAIyfLRFk-O8peQsEalADLpJ-AYYbpjULtIgW_k&v=2&s=AMedNnoAAAAAWrRv2_84rbYHxcF-9NoOG27TICZ9V9w4&sz=s220\n",
            "Key: title\n",
            "docexample.docx\n",
            "Key: mimeType\n",
            "application/vnd.google-apps.document\n",
            "Key: labels\n",
            "{'starred': False, 'hidden': False, 'trashed': False, 'restricted': False, 'viewed': True}\n",
            "Key: createdDate\n",
            "2018-03-23T00:35:01.568Z\n",
            "Key: modifiedDate\n",
            "2018-03-23T00:35:41.668Z\n",
            "Key: modifiedByMeDate\n",
            "2018-03-23T00:35:41.668Z\n",
            "Key: lastViewedByMeDate\n",
            "2018-03-23T00:35:07.789Z\n",
            "Key: markedViewedByMeDate\n",
            "1970-01-01T00:00:00.000Z\n",
            "Key: version\n",
            "17\n",
            "Key: parents\n",
            "[{'kind': 'drive#parentReference', 'id': '1u3ybivsD_iDiy7pZdpZVyyAjIbLgivoT', 'selfLink': 'https://www.googleapis.com/drive/v2/files/1kheJEAIyfLRFk-O8peQsEalADLpJ-AYYbpjULtIgW_k/parents/1u3ybivsD_iDiy7pZdpZVyyAjIbLgivoT', 'parentLink': 'https://www.googleapis.com/drive/v2/files/1u3ybivsD_iDiy7pZdpZVyyAjIbLgivoT', 'isRoot': False}]\n",
            "Key: exportLinks\n",
            "{'application/rtf': 'https://docs.google.com/feeds/download/documents/export/Export?id=1kheJEAIyfLRFk-O8peQsEalADLpJ-AYYbpjULtIgW_k&exportFormat=rtf', 'application/vnd.oasis.opendocument.text': 'https://docs.google.com/feeds/download/documents/export/Export?id=1kheJEAIyfLRFk-O8peQsEalADLpJ-AYYbpjULtIgW_k&exportFormat=odt', 'text/html': 'https://docs.google.com/feeds/download/documents/export/Export?id=1kheJEAIyfLRFk-O8peQsEalADLpJ-AYYbpjULtIgW_k&exportFormat=html', 'application/pdf': 'https://docs.google.com/feeds/download/documents/export/Export?id=1kheJEAIyfLRFk-O8peQsEalADLpJ-AYYbpjULtIgW_k&exportFormat=pdf', 'application/epub+zip': 'https://docs.google.com/feeds/download/documents/export/Export?id=1kheJEAIyfLRFk-O8peQsEalADLpJ-AYYbpjULtIgW_k&exportFormat=epub', 'application/zip': 'https://docs.google.com/feeds/download/documents/export/Export?id=1kheJEAIyfLRFk-O8peQsEalADLpJ-AYYbpjULtIgW_k&exportFormat=zip', 'application/vnd.openxmlformats-officedocument.wordprocessingml.document': 'https://docs.google.com/feeds/download/documents/export/Export?id=1kheJEAIyfLRFk-O8peQsEalADLpJ-AYYbpjULtIgW_k&exportFormat=docx', 'text/plain': 'https://docs.google.com/feeds/download/documents/export/Export?id=1kheJEAIyfLRFk-O8peQsEalADLpJ-AYYbpjULtIgW_k&exportFormat=txt'}\n",
            "Key: userPermission\n",
            "{'kind': 'drive#permission', 'etag': '\"hcahzZRGAO5dFBAGGfvDlnfbXEY/rkuCIruBZBjkIm45PdVWRpyOBa4\"', 'id': 'me', 'selfLink': 'https://www.googleapis.com/drive/v2/files/1kheJEAIyfLRFk-O8peQsEalADLpJ-AYYbpjULtIgW_k/permissions/me', 'role': 'owner', 'type': 'user'}\n",
            "Key: quotaBytesUsed\n",
            "0\n",
            "Key: ownerNames\n",
            "['David Race']\n",
            "Key: owners\n",
            "[{'kind': 'drive#user', 'displayName': 'David Race', 'isAuthenticatedUser': True, 'permissionId': '17739187180962963353', 'emailAddress': 'dr.david.race@gmail.com'}]\n",
            "Key: lastModifyingUserName\n",
            "David Race\n",
            "Key: lastModifyingUser\n",
            "{'kind': 'drive#user', 'displayName': 'David Race', 'isAuthenticatedUser': True, 'permissionId': '17739187180962963353', 'emailAddress': 'dr.david.race@gmail.com'}\n",
            "Key: capabilities\n",
            "{'canCopy': True, 'canEdit': True}\n",
            "Key: editable\n",
            "True\n",
            "Key: copyable\n",
            "True\n",
            "Key: writersCanShare\n",
            "True\n",
            "Key: shared\n",
            "False\n",
            "Key: explicitlyTrashed\n",
            "False\n",
            "Key: appDataContents\n",
            "False\n",
            "Key: spaces\n",
            "['drive']\n"
          ],
          "name": "stdout"
        }
      ]
    },
    {
      "metadata": {
        "id": "iM39iK8FoIu7",
        "colab_type": "text"
      },
      "cell_type": "markdown",
      "source": [
        "###  Important Summary of the Work Above"
      ]
    },
    {
      "metadata": {
        "id": "na3CAs_noN4c",
        "colab_type": "text"
      },
      "cell_type": "markdown",
      "source": [
        "So we ask ourselves' the important questions:\n",
        "\n",
        "*  What are the \"logical\" differences between a Linux file system and the Google File System?\n",
        "*  How do the differences affect our management activities?\n",
        "\n",
        "####  Logical Differences\n",
        "For a Linux file system, the parents keep track of the children.  If you go back to ancient history (aka 1970's and 1980's), the file system was essentially synomymous with the way the files were laid out on the disks.  The \"directory files\" containers held pointers to children containers, and file containers had pointers to the parts of the file.  Symbolic links allowed multiple directories to point to the same file (either directory or file), but everything started at the top and worked its way down.  This had three primary advantages:\n",
        "\n",
        "*  It was \"natural\" for people to understand because it essentially mimiced a room full of file cabinets\n",
        "*  It was \"easy\" to use names (rather than pointers) so people could find files\n",
        "*  It was relatively easy to embed this concept on a tape and on a single disk\n",
        "*  It was easy to continue the original \"unix\" file system which defined as file as a linear stream of bytes\n",
        "\n",
        "On the other hand, starting in the 1980s it had some serious disadvantages:\n",
        "\n",
        "*  The tape/disks became the slow part of the system, so using individual disks for files was a problem (even after caching was used)\n",
        "*  There were a lot of different ways that multiple disks could be used for file systems, for instance:\n",
        "  *  The Thinking Machines file system automatically spread data across all of the drives and mapped physical drives to physical processors\n",
        "  *  The Cray file system \"stripped\" blocks across the drives and relied on the individual applications to \"fix\" the data\n",
        "*  The HDFS file layout wanted to consider data as non-linear, but regular multi-dimensional, so there was some complex algorithms to get data to the right processor.  This file system allows one of the dimensions to be time, so it covers a large number of physical data models.\n",
        "\n",
        "Google's approach may not have been \"explicitly\" defined using the following concepts, but the following appear to be consistent with their model.  In general, the Google model fits the following:\n",
        "\n",
        "*  Users might want worldwide access to the data\n",
        "*  Users should be concerned about data access and data access time rather than a physical layout of the data\n",
        "*  There are so many different applications, that google can't provide the mapping from physical layout to data so the application has to map from the linear stream of bytes to their application needs.\n",
        "*  Users need a way to understand their data layout\n",
        "*  Users need to share documents and/or folders\n",
        "\n",
        "To meet these requirements, Google appears to have made the following decisions:\n",
        "\n",
        "*  They supported the concept of folders rather than directories\n",
        "*  They made each file in their system a stnad-alone entity\n",
        "*  They provide the ability to define the bandwidth requirements for some of their stores and they meet those requirements\n",
        "\n",
        "\n",
        "1.  The implementation is rather elegant, instead of directories containing information about the files/directories under them - the files/folders track the information on their parents.  This makes sense from Google's perspective since they are so good at indexing.\n",
        "2.  They track everything by a fileID and the file carries its 'title' with it.  There is a great deal of information in the metadata for a file, so they use the metadata to keep all of the important information.  (see the example above.)\n",
        "3.  The metadata contains the mimeType so apps that support that mimeType know how to parse the data.  This is important, the data is considered a unicode byte stream and the mimeType tells other apps what they can expect.  \n",
        "\n",
        "There are considerable differences, but it is reasonable to build a small set of tools that wrap around PyDrive to provide a human readable interface to a google drive.  I have instantiated the small set of tools in my bitbucket account so I can use CodeAnywhere for editing.\n",
        "\n",
        "NOTE:  Discussion of the Cloud Storage capabilies (object oriented buckets) will be discussed later in this notebook.\n",
        "\n",
        "All that said, probably the biggest differences are:\n",
        "\n",
        "*  There isn't a concept of the current working directory in Google Drive when working with a notebook.  This would have to be built with a stack that maintains the current working directory if desired.  (this is coming in my ColabGDrive library.)\n",
        "*  You can't \"open\" a file by giving it a path, you have to find the fileID first on your own (the first tool in ColabGDrive library)\n",
        "\n",
        "Overall, I have been able to work with path names (as defined by root oriented strings) fairly well.  The ColabGDrive will eventually have the concept of a current working directory, so it will be relatively easy to map between our visual concept of folders to the GDrive environment.  No we4 problems so far (22 Mar 2018)."
      ]
    }
  ]
}